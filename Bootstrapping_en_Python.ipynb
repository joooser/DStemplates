{
  "nbformat": 4,
  "nbformat_minor": 0,
  "metadata": {
    "colab": {
      "provenance": [],
      "collapsed_sections": [],
      "include_colab_link": true
    },
    "kernelspec": {
      "name": "python3",
      "display_name": "Python 3"
    },
    "language_info": {
      "name": "python"
    }
  },
  "cells": [
    {
      "cell_type": "markdown",
      "metadata": {
        "id": "view-in-github",
        "colab_type": "text"
      },
      "source": [
        "<a href=\"https://colab.research.google.com/github/joooser/DStemplates/blob/main/Bootstrapping_en_Python.ipynb\" target=\"_parent\"><img src=\"https://colab.research.google.com/assets/colab-badge.svg\" alt=\"Open In Colab\"/></a>"
      ]
    },
    {
      "cell_type": "markdown",
      "source": [
        "#### Importamos las librerías necesarias para el análisis"
      ],
      "metadata": {
        "id": "Esy8eTT9Y0d2"
      }
    },
    {
      "cell_type": "code",
      "execution_count": 1,
      "metadata": {
        "id": "DVk5cURAYhOq"
      },
      "outputs": [],
      "source": [
        "import pandas as pd\n",
        "import numpy as np \n",
        "import random"
      ]
    },
    {
      "cell_type": "code",
      "source": [
        "# Creamos una muestra aleatoria de 10,0000 personas que tienen una edad promedio de 34 años\n",
        "data = np.random.normal(loc= 34, size=10000)\n",
        "data"
      ],
      "metadata": {
        "colab": {
          "base_uri": "https://localhost:8080/"
        },
        "id": "yvAAawcmZjT-",
        "outputId": "4e172440-8b15-4cc5-83c2-d9df93cc850d"
      },
      "execution_count": 2,
      "outputs": [
        {
          "output_type": "execute_result",
          "data": {
            "text/plain": [
              "array([34.14012973, 32.10665323, 35.34833037, ..., 34.60755966,\n",
              "       32.29983643, 33.31480947])"
            ]
          },
          "metadata": {},
          "execution_count": 2
        }
      ]
    },
    {
      "cell_type": "code",
      "source": [
        "# Comprobamos cuál es el promedio de edad de nuestra base\n",
        "data.mean()"
      ],
      "metadata": {
        "colab": {
          "base_uri": "https://localhost:8080/"
        },
        "id": "qzv5NJTFZ9LV",
        "outputId": "c20b64e6-8aa6-47b4-ef21-34e6627d0997"
      },
      "execution_count": 3,
      "outputs": [
        {
          "output_type": "execute_result",
          "data": {
            "text/plain": [
              "34.00410560796348"
            ]
          },
          "metadata": {},
          "execution_count": 3
        }
      ]
    },
    {
      "cell_type": "markdown",
      "source": [
        "#### Iniciamos el procedimiento para calcular el promedio de edad a partir de bootstrapping"
      ],
      "metadata": {
        "id": "ZxPFUkfNaRa8"
      }
    },
    {
      "cell_type": "code",
      "source": [
        "# Vamos a crear 40 muestras de tamaño 5 para estimar el promedio\n",
        "promedio = []\n",
        "for i in range(40):\n",
        "  muestra = random.sample(data.tolist(), 4)\n",
        "  prom = np.mean(muestra)\n",
        "  promedio.append(prom)"
      ],
      "metadata": {
        "id": "FCvH2oSvaPrI"
      },
      "execution_count": 14,
      "outputs": []
    },
    {
      "cell_type": "markdown",
      "source": [
        "La lista llamada promedio que hemos creado va a contener el promedio para las 40 muestras. Para estimar el promedio de la población tenemos que calcular el promedio de la lista promedio."
      ],
      "metadata": {
        "id": "WzDbMqsfbKcT"
      }
    },
    {
      "cell_type": "code",
      "source": [
        "np.mean(promedio)"
      ],
      "metadata": {
        "colab": {
          "base_uri": "https://localhost:8080/"
        },
        "id": "G-gg965VbH5f",
        "outputId": "da18a013-3486-4c1f-8da0-24475d942da5"
      },
      "execution_count": 15,
      "outputs": [
        {
          "output_type": "execute_result",
          "data": {
            "text/plain": [
              "34.0189421147594"
            ]
          },
          "metadata": {},
          "execution_count": 15
        }
      ]
    },
    {
      "cell_type": "markdown",
      "source": [
        "Cada vez obtendríamos un resultado diferente. El muestreo por bootstrapping saca promedios de una población creando muestras más pequeñas y se usa para DS e IA para evitar el overfitting. El sobreajuste es un error de modelado que se produce cuando una función se ajusta demasiado a un conjunto limitado de puntos de datos"
      ],
      "metadata": {
        "id": "iY2MIMhHcRS-"
      }
    }
  ]
}